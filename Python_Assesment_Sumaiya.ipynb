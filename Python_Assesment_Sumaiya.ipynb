{
  "nbformat": 4,
  "nbformat_minor": 0,
  "metadata": {
    "colab": {
      "provenance": [],
      "authorship_tag": "ABX9TyPbxaZHBDLoEde2JfLv0A8L",
      "include_colab_link": true
    },
    "kernelspec": {
      "name": "python3",
      "display_name": "Python 3"
    },
    "language_info": {
      "name": "python"
    }
  },
  "cells": [
    {
      "cell_type": "markdown",
      "metadata": {
        "id": "view-in-github",
        "colab_type": "text"
      },
      "source": [
        "<a href=\"https://colab.research.google.com/github/Sumaiya-Fathima/HighIQpythontraining/blob/main/Python_Assesment_Sumaiya.ipynb\" target=\"_parent\"><img src=\"https://colab.research.google.com/assets/colab-badge.svg\" alt=\"Open In Colab\"/></a>"
      ]
    },
    {
      "cell_type": "code",
      "execution_count": 55,
      "metadata": {
        "colab": {
          "base_uri": "https://localhost:8080/"
        },
        "id": "pbX2Y2DCucUq",
        "outputId": "ec984b98-3453-4da6-b9f3-05790d237fcc"
      },
      "outputs": [
        {
          "output_type": "stream",
          "name": "stdout",
          "text": [
            "Enter your choice (rock,paper,scissors): rock\n",
            "You chose: rock, Computer chose rock\n",
            "It's a tie\n"
          ]
        }
      ],
      "source": [
        "\n",
        "#Design a rock, paper, scissors game (only fucntion)\n",
        "#1. computer input is random\n",
        "#2, u have human input for r, p, s\n",
        "#3 . show who is winner? Computer chose {} and human chose{}\n",
        "\n",
        "from IPython.utils.path import compress_user\n",
        "import random\n",
        "\n",
        "def game():\n",
        "  human = input(\"Enter your choice (rock,paper,scissors): \")\n",
        "  options = [\"rock\", \"paper\", \"scissors\"]\n",
        "  computer = random.choice(options)\n",
        "  game = {\"human_choice\": human , \"computer_choice\": computer }\n",
        "  \n",
        "  return game\n",
        "\n",
        "def win(human, computer):\n",
        "  print(f\"You chose: {human}, Computer chose {computer}\")\n",
        "  if human == computer:\n",
        "    return \"It's a tie\"\n",
        "\n",
        "  elif human == \"rock\":\n",
        "    if computer == \"paper\":\n",
        "      return \"Paper covers rock!  You lose\"\n",
        "    else:\n",
        "      return \"Scissors cuts paper! You win!\"\n",
        "\n",
        "  elif human == \"paper\":\n",
        "    if computer == \"scissors\":\n",
        "      return \"Scissors cuts paper! You lose\"\n",
        "    else:\n",
        "      return \"paper covers rock! You win!\"\n",
        "\n",
        "  elif human == \"scissors\":\n",
        "    if computer == \"rock\":\n",
        "      return \"Rock smashes scissors! You lose\"\n",
        "    else: \n",
        "      return \"paper covers rock! You win!\"\n",
        "\n",
        "  \n",
        "\n",
        "main_game = game()\n",
        "#print(main_game)\n",
        "winner = win(main_game['human_choice'],main_game['computer_choice'])\n",
        "print(winner)\n"
      ]
    },
    {
      "cell_type": "code",
      "source": [
        "from IPython.utils.path import compress_user\n",
        "\n",
        "import random\n",
        "\n",
        "def game():\n",
        "  human = input(\"Enter your choice (rock,paper,scissors): \")\n",
        "\n",
        "  options = [\"rock\", \"paper\", \"scissors\"]\n",
        "  computer = random.choice(options)\n",
        "  print(f\"You chose: {human}, Computer chose: {computer}\")\n",
        "  game = {\"human_choice\": human , \"computer_choice\": computer }\n",
        "\n",
        "  if (human == computer):\n",
        "    return \"It's a tie\"\n",
        "  elif ((human == \"rock\" and computer== \"scissors\") or (human == \"paper\" and computer == \"rock\" ) or (human == \"scissors\" and computer ==\"paper\")):\n",
        "     return \"You won the game\"\n",
        "  else:\n",
        "    return \"Good luck ! better than next time\"\n",
        "\n",
        "winner = game()\n",
        "print(winner)"
      ],
      "metadata": {
        "colab": {
          "base_uri": "https://localhost:8080/"
        },
        "id": "e08Cxe13xD1N",
        "outputId": "d555513f-2716-4801-f214-3dfc9eb5915b"
      },
      "execution_count": 79,
      "outputs": [
        {
          "output_type": "stream",
          "name": "stdout",
          "text": [
            "Enter your choice (rock,paper,scissors): paper\n",
            "You chose: paper, Computer chose: paper\n",
            "It's a tie\n"
          ]
        }
      ]
    },
    {
      "cell_type": "code",
      "source": [],
      "metadata": {
        "id": "pLNxRt4oAr9D"
      },
      "execution_count": 71,
      "outputs": []
    },
    {
      "cell_type": "code",
      "source": [],
      "metadata": {
        "id": "PXrxASg6dPtx"
      },
      "execution_count": null,
      "outputs": []
    }
  ]
}