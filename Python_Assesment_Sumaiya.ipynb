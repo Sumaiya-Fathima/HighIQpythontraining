{
  "nbformat": 4,
  "nbformat_minor": 0,
  "metadata": {
    "colab": {
      "provenance": [],
      "authorship_tag": "ABX9TyM4OWe06mwpNjxyY9WZeeVd",
      "include_colab_link": true
    },
    "kernelspec": {
      "name": "python3",
      "display_name": "Python 3"
    },
    "language_info": {
      "name": "python"
    }
  },
  "cells": [
    {
      "cell_type": "markdown",
      "metadata": {
        "id": "view-in-github",
        "colab_type": "text"
      },
      "source": [
        "<a href=\"https://colab.research.google.com/github/Sumaiya-Fathima/HighIQpythontraining/blob/main/Python_Assesment_Sumaiya.ipynb\" target=\"_parent\"><img src=\"https://colab.research.google.com/assets/colab-badge.svg\" alt=\"Open In Colab\"/></a>"
      ]
    },
    {
      "cell_type": "code",
      "execution_count": 55,
      "metadata": {
        "colab": {
          "base_uri": "https://localhost:8080/"
        },
        "id": "pbX2Y2DCucUq",
        "outputId": "ec984b98-3453-4da6-b9f3-05790d237fcc"
      },
      "outputs": [
        {
          "output_type": "stream",
          "name": "stdout",
          "text": [
            "Enter your choice (rock,paper,scissors): rock\n",
            "You chose: rock, Computer chose rock\n",
            "It's a tie\n"
          ]
        }
      ],
      "source": [
        "#from IPython.utils.path import compress_user\n",
        "#Design a rock, paper, scissors game (only fucntion)\n",
        "#1. computer input is random\n",
        "#2, u have human input for r, p, s\n",
        "#3 . show who is winner? Computer chose {} and human chose{}\n",
        "\n",
        "\n",
        "import random\n",
        "\n",
        "def game():\n",
        "  human = input(\"Enter your choice (rock,paper,scissors): \")\n",
        "  options = [\"rock\", \"paper\", \"scissors\"]\n",
        "  computer = random.choice(options)\n",
        "  game = {\"human_choice\": human , \"computer_choice\": computer }\n",
        "  \n",
        "  return game\n",
        "\n",
        "def win(human, computer):\n",
        "  print(f\"You chose: {human}, Computer chose {computer}\")\n",
        "  if human == computer:\n",
        "    return \"It's a tie\"\n",
        "\n",
        "  elif human == \"rock\":\n",
        "    if computer == \"paper\":\n",
        "      return \"Paper covers rock!  You lose\"\n",
        "    else:\n",
        "      return \"Scissors cuts paper! You win!\"\n",
        "\n",
        "  elif human == \"paper\":\n",
        "    if computer == \"scissors\":\n",
        "      return \"Scissors cuts paper! You lose\"\n",
        "    else:\n",
        "      return \"paper covers rock! You win!\"\n",
        "\n",
        "  elif human == \"scissors\":\n",
        "    if computer == \"rock\":\n",
        "      return \"Rock smashes scissors! You lose\"\n",
        "    else: \n",
        "      return \"paper covers rock! You win!\"\n",
        "\n",
        "  \n",
        "\n",
        "main_game = game()\n",
        "#print(main_game)\n",
        "winner = win(main_game['human_choice'],main_game['computer_choice'])\n",
        "print(winner)\n"
      ]
    },
    {
      "cell_type": "code",
      "source": [
        "from IPython.utils.path import compress_user\n",
        "\n",
        "import random\n",
        "\n",
        "def game():\n",
        "  human = input(\"Enter your choice (rock,paper,scissors): \")\n",
        "  options = [\"rock\", \"paper\", \"scissors\"]\n",
        "  computer = random.choice(options)\n",
        "  game = {\"human_choice\": human , \"computer_choice\": computer }\n",
        "  \n",
        "  return game\n",
        "\n",
        "def win(human, computer):\n",
        "  print(f\"You chose {human}, Computer chose {computer}\")\n",
        "\n",
        "  if {human == computer}:\n",
        "    return \"It's a tie\"\n",
        "  if {human == \"rock\" and computer == \"scissors\"} or {human == \"rock\" and computer == \"paper\"}:\n",
        "    return \"Rock smashes scisscors! You win!\"\n",
        "  else:\n",
        "    return \"Paper covers rock! You lose\"\n",
        "  if {human == \"paper\" and  computer == \"rock\"} or {human == \"paper\" and  computer == \"scissors\"} :\n",
        "    return \"Paper covers rock! You win!\"\n",
        "  else:\n",
        "    return \"Scissors cuts paper! You lose\"\n",
        "  if {human == \"scissors\" and computer == \"paper\"} or {human == \"scissors\" and  computer == \"rock\"}:\n",
        "    return \"Scissors cuts paper! You win!\"\n",
        "  else:\n",
        "    return \"Rock smashes scissors! You lose\"\n",
        "\n",
        "  \n",
        "main_game = game()\n",
        "#print(main_game)\n",
        "winner = win(main_game[\"human_choice\"], main_game[\"computer_choice\"] )"
      ],
      "metadata": {
        "colab": {
          "base_uri": "https://localhost:8080/"
        },
        "id": "e08Cxe13xD1N",
        "outputId": "deec38a2-220b-45b2-dd5a-79f95a0da419"
      },
      "execution_count": 59,
      "outputs": [
        {
          "output_type": "stream",
          "name": "stdout",
          "text": [
            "Enter your choice (rock,paper,scissors): rock\n",
            "You chose rock, Computer chose paper\n"
          ]
        }
      ]
    },
    {
      "cell_type": "code",
      "source": [],
      "metadata": {
        "id": "pLNxRt4oAr9D"
      },
      "execution_count": 34,
      "outputs": []
    }
  ]
}