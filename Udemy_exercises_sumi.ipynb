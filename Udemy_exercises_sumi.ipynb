{
  "nbformat": 4,
  "nbformat_minor": 0,
  "metadata": {
    "colab": {
      "provenance": [],
      "authorship_tag": "ABX9TyMGfD6F8ILF7Q6Bu9OdudYD",
      "include_colab_link": true
    },
    "kernelspec": {
      "name": "python3",
      "display_name": "Python 3"
    },
    "language_info": {
      "name": "python"
    }
  },
  "cells": [
    {
      "cell_type": "markdown",
      "metadata": {
        "id": "view-in-github",
        "colab_type": "text"
      },
      "source": [
        "<a href=\"https://colab.research.google.com/github/Sumaiya-Fathima/HighIQpythontraining/blob/main/Udemy_exercises_sumi.ipynb\" target=\"_parent\"><img src=\"https://colab.research.google.com/assets/colab-badge.svg\" alt=\"Open In Colab\"/></a>"
      ]
    },
    {
      "cell_type": "markdown",
      "source": [
        "Exercise 1"
      ],
      "metadata": {
        "id": "MyjIhzLADRVB"
      }
    },
    {
      "cell_type": "code",
      "source": [
        "username = input(\"Enter your username:\")\n",
        "password = input(\"Enter your password:\")\n",
        "\n",
        "pass_length = len(password)\n",
        "hidden_password = '*' * pass_length\n",
        " \n",
        "#print(hidden_password)\n",
        "#print(\"Hi {}. This is your password : {} and is {} letters long\".format(username, hidden_password, pass_length))\n",
        "\n",
        "print(f\"Hey {username}. This is ur password : {hidden_password}, is {pass_length} letters long\")"
      ],
      "metadata": {
        "colab": {
          "base_uri": "https://localhost:8080/"
        },
        "id": "nAAHYvLp_iJw",
        "outputId": "c7272e10-b634-4941-c01e-098c04dc6042"
      },
      "execution_count": null,
      "outputs": [
        {
          "output_type": "stream",
          "name": "stdout",
          "text": [
            "Enter your username:Sumaiya\n",
            "Enter your password:Fathima\n",
            "Hey Sumaiya. This is ur password : *******, is 7 letters long\n"
          ]
        }
      ]
    },
    {
      "cell_type": "markdown",
      "source": [
        "UDEMY EXERCISE FOR 66TH VIDEO OF ZTM - Logical operators\n"
      ],
      "metadata": {
        "id": "nHBrxTBr-YlT"
      }
    },
    {
      "cell_type": "code",
      "source": [
        "is_magician = True\n",
        "is_expert =  False\n",
        "\n",
        "if is_magician and is_expert:\n",
        "  print(\" You are a master magician\")\n",
        "\n",
        "elif is_magician and not is_expert:\n",
        "  print(\"At least you are getting there\")\n",
        "\n",
        "elif not is_magician:\n",
        "  print(\"You need magic powers\")\n",
        "#else:\n",
        "#  print(\"You need magic powers\")"
      ],
      "metadata": {
        "colab": {
          "base_uri": "https://localhost:8080/"
        },
        "id": "SieINpCd-lKo",
        "outputId": "b78a8db8-7c67-44ab-fba3-168291aa295e"
      },
      "execution_count": null,
      "outputs": [
        {
          "output_type": "stream",
          "name": "stdout",
          "text": [
            "At least you are getting there\n"
          ]
        }
      ]
    },
    {
      "cell_type": "markdown",
      "source": [
        "Tricky Counter"
      ],
      "metadata": {
        "id": "KSiGMBuFcvKg"
      }
    },
    {
      "cell_type": "code",
      "source": [
        "my_list = [1,2,3,4,5,6,7,8,9,10]\n",
        "\n",
        "counter = 0\n",
        "for item in my_list:\n",
        "  counter = counter + item\n",
        "\n",
        "print(counter)"
      ],
      "metadata": {
        "colab": {
          "base_uri": "https://localhost:8080/"
        },
        "id": "VZgperqrcxP1",
        "outputId": "fcd050ad-f8f7-41c1-aa2e-c41b5bc540b0"
      },
      "execution_count": null,
      "outputs": [
        {
          "output_type": "stream",
          "name": "stdout",
          "text": [
            "55\n"
          ]
        }
      ]
    },
    {
      "cell_type": "markdown",
      "source": [
        "ENUMERATE \n",
        "Enumerate number and find the index of 50"
      ],
      "metadata": {
        "id": "ktYmttQ5gYtP"
      }
    },
    {
      "cell_type": "code",
      "source": [
        "for i,char in enumerate(list(range(100))):\n",
        "  #print(i,char)\n",
        "  if char ==50:\n",
        "    print(f\"index of 50 is: {i}\")\n"
      ],
      "metadata": {
        "colab": {
          "base_uri": "https://localhost:8080/"
        },
        "id": "b23zebTcdAVS",
        "outputId": "ad694edd-532a-4a85-9315-9529afe1691e"
      },
      "execution_count": null,
      "outputs": [
        {
          "output_type": "stream",
          "name": "stdout",
          "text": [
            "index of 50 is: 50\n"
          ]
        }
      ]
    },
    {
      "cell_type": "markdown",
      "source": [
        "GUI "
      ],
      "metadata": {
        "id": "-LpmO3hFpXlg"
      }
    },
    {
      "cell_type": "code",
      "source": [
        "picture = [\n",
        "[0,0,0,1,0,0,0],\n",
        "[0,0,1,1,1,0,0],\n",
        "[0,1,1,1,1,1,0],\n",
        "[1,1,1,1,1,1,1],\n",
        "[0,0,0,1,0,0,0],\n",
        "[0,0,0,1,0,0,0]\n",
        "]\n",
        "\n",
        "for row in picture:\n",
        "  for pixel in row: \n",
        "    if pixel == 1 :\n",
        "      print('*', end =\"\")\n",
        "    else:\n",
        "      print(' ', end =\"\")\n",
        "  print('')"
      ],
      "metadata": {
        "colab": {
          "base_uri": "https://localhost:8080/"
        },
        "id": "Q32k9NTkguSl",
        "outputId": "e899cc36-b392-4dfc-c17a-1cb97d63dab0"
      },
      "execution_count": null,
      "outputs": [
        {
          "output_type": "stream",
          "name": "stdout",
          "text": [
            "   *   \n",
            "  ***  \n",
            " ***** \n",
            "*******\n",
            "   *   \n",
            "   *   \n"
          ]
        }
      ]
    },
    {
      "cell_type": "markdown",
      "source": [
        "Find Duplicates"
      ],
      "metadata": {
        "id": "5l0dOOaIso9G"
      }
    },
    {
      "cell_type": "code",
      "source": [
        "some_list = ['a','b','c','d','b','m','n','n']\n",
        "\n",
        "duplicates =[]\n",
        "for value in some_list:\n",
        "  if some_list.count(value)> 1:\n",
        "    if value not in duplicates:\n",
        "      duplicates.append(value)\n",
        "\n",
        "print(duplicates)"
      ],
      "metadata": {
        "colab": {
          "base_uri": "https://localhost:8080/"
        },
        "id": "J5UyTl3gpgpz",
        "outputId": "cc5cf33e-bad0-45a4-8578-01dae1e031cf"
      },
      "execution_count": null,
      "outputs": [
        {
          "output_type": "stream",
          "name": "stdout",
          "text": [
            "['b', 'n']\n"
          ]
        }
      ]
    },
    {
      "cell_type": "code",
      "source": [],
      "metadata": {
        "id": "7I8xYdfLtMqy"
      },
      "execution_count": null,
      "outputs": []
    }
  ]
}