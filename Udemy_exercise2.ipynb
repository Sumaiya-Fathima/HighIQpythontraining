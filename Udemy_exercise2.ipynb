{
  "nbformat": 4,
  "nbformat_minor": 0,
  "metadata": {
    "colab": {
      "provenance": [],
      "authorship_tag": "ABX9TyNGY4Ucf9/v7oEniWgFhQid",
      "include_colab_link": true
    },
    "kernelspec": {
      "name": "python3",
      "display_name": "Python 3"
    },
    "language_info": {
      "name": "python"
    }
  },
  "cells": [
    {
      "cell_type": "markdown",
      "metadata": {
        "id": "view-in-github",
        "colab_type": "text"
      },
      "source": [
        "<a href=\"https://colab.research.google.com/github/Sumaiya-Fathima/HighIQpythontraining/blob/main/Udemy_exercise2.ipynb\" target=\"_parent\"><img src=\"https://colab.research.google.com/assets/colab-badge.svg\" alt=\"Open In Colab\"/></a>"
      ]
    },
    {
      "cell_type": "markdown",
      "source": [
        "Find Highest even"
      ],
      "metadata": {
        "id": "8UICbXs10Flx"
      }
    },
    {
      "cell_type": "code",
      "execution_count": 4,
      "metadata": {
        "colab": {
          "base_uri": "https://localhost:8080/"
        },
        "id": "JrMblfG80ET7",
        "outputId": "14ea4453-815e-4b0a-a65c-b71be5a2de75"
      },
      "outputs": [
        {
          "output_type": "stream",
          "name": "stdout",
          "text": [
            "10\n"
          ]
        }
      ],
      "source": [
        "def highest_evens(li):\n",
        "  evens=[]\n",
        "  for items in li:\n",
        "    if items %2 == 0:\n",
        "      evens.append(items)\n",
        "  return max(evens)\n",
        "\n",
        "print(highest_evens([10,2,3,4,8,11]))"
      ]
    },
    {
      "cell_type": "markdown",
      "source": [
        "Walrus operator"
      ],
      "metadata": {
        "id": "EK-r2Y8n0M9j"
      }
    },
    {
      "cell_type": "code",
      "source": [
        "a = \"helloooooooo\"\n",
        "if ((n := len(a)) > 10):\n",
        "  print(f'too long {n} elements')\n",
        "\n",
        "while ((n := len(a)) > 7):\n",
        "  print(n)\n",
        "  a = a[:-1]\n",
        "  print(a)"
      ],
      "metadata": {
        "colab": {
          "base_uri": "https://localhost:8080/"
        },
        "id": "kz3SxnEA0Lk7",
        "outputId": "aa45c21d-4910-4acd-e6e6-b5dba98cbd2d"
      },
      "execution_count": 14,
      "outputs": [
        {
          "output_type": "stream",
          "name": "stdout",
          "text": [
            "too long 12 elements\n",
            "12\n",
            "hellooooooo\n",
            "11\n",
            "helloooooo\n",
            "10\n",
            "hellooooo\n",
            "9\n",
            "helloooo\n",
            "8\n",
            "hellooo\n"
          ]
        }
      ]
    },
    {
      "cell_type": "code",
      "source": [],
      "metadata": {
        "id": "FTcRixNm02bV"
      },
      "execution_count": null,
      "outputs": []
    }
  ]
}