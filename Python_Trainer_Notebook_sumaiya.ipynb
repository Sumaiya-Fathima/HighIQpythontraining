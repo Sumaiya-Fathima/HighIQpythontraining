{
  "nbformat": 4,
  "nbformat_minor": 0,
  "metadata": {
    "colab": {
      "provenance": [],
      "include_colab_link": true
    },
    "kernelspec": {
      "name": "python3",
      "display_name": "Python 3"
    },
    "language_info": {
      "name": "python"
    }
  },
  "cells": [
    {
      "cell_type": "markdown",
      "metadata": {
        "id": "view-in-github",
        "colab_type": "text"
      },
      "source": [
        "<a href=\"https://colab.research.google.com/github/Sumaiya-Fathima/HighIQpythontraining/blob/main/Python_Trainer_Notebook_sumaiya.ipynb\" target=\"_parent\"><img src=\"https://colab.research.google.com/assets/colab-badge.svg\" alt=\"Open In Colab\"/></a>"
      ]
    },
    {
      "cell_type": "markdown",
      "source": [
        "# **HighIQ Python Trainer Notebook** *(Zero to One)*"
      ],
      "metadata": {
        "id": "Z4FTcvTAdQKq"
      }
    },
    {
      "cell_type": "markdown",
      "source": [
        "# [**Click on this Course**](https://www.youtube.com/watch?v=eWRfhZUzrAc&t=2s)"
      ],
      "metadata": {
        "id": "Uwve7HQNa_8p"
      }
    },
    {
      "cell_type": "markdown",
      "source": [
        "## Variable And Functions"
      ],
      "metadata": {
        "id": "cpgKGi14bJCQ"
      }
    },
    {
      "cell_type": "code",
      "execution_count": null,
      "metadata": {
        "id": "HPoiJb3ea9IP"
      },
      "outputs": [],
      "source": [
        "def get_choices(): \n",
        "  player_choice=\"rock\"\n",
        "  computer_choice =\"paper\"\n",
        "\n",
        "  return player_choices\n",
        "\n"
      ]
    },
    {
      "cell_type": "markdown",
      "source": [
        "## Calling Funtions"
      ],
      "metadata": {
        "id": "nPYEMWVUbPyG"
      }
    },
    {
      "cell_type": "code",
      "source": [
        "def get_choices(): \n",
        "  player_choice=\"rock\"\n",
        "  computer_choice =\"paper\"\n",
        "\n",
        "  return computer_choice\n",
        "\n",
        "choices = get_choices()\n",
        "print(choices)"
      ],
      "metadata": {
        "id": "QQg2W7qgbTld",
        "colab": {
          "base_uri": "https://localhost:8080/"
        },
        "outputId": "8c1bdd85-180f-4eaf-f862-9e4e6c562fb2"
      },
      "execution_count": null,
      "outputs": [
        {
          "output_type": "stream",
          "name": "stdout",
          "text": [
            "paper\n"
          ]
        }
      ]
    },
    {
      "cell_type": "markdown",
      "source": [
        "# Dictionaries"
      ],
      "metadata": {
        "id": "3zCwfoAsdcJc"
      }
    },
    {
      "cell_type": "code",
      "source": [
        "def get_choices():\n",
        "  player_choice=\"rock\"\n",
        "  computer_choice=\"paper\"\n",
        "  \n",
        "  choices= {\"player\":player_choice, \"computer\":computer_choice}\n",
        "\n",
        "  return choices\n",
        "\n",
        "choices = get_choices()\n",
        "print(choices)"
      ],
      "metadata": {
        "id": "_DIhAalSde__",
        "colab": {
          "base_uri": "https://localhost:8080/"
        },
        "outputId": "82aea654-ba8c-44d7-e770-a0a6d5998cd0"
      },
      "execution_count": null,
      "outputs": [
        {
          "output_type": "stream",
          "name": "stdout",
          "text": [
            "{'player': 'rock', 'computer': 'paper'}\n"
          ]
        }
      ]
    },
    {
      "cell_type": "markdown",
      "source": [
        "## User Input"
      ],
      "metadata": {
        "id": "petiJbGXdfhj"
      }
    },
    {
      "cell_type": "code",
      "source": [
        "def get_choices():\n",
        "  player_choice=input(\"Enter a choice (rock, paper, scissors: \")\n",
        "  computer_choice=\"paper\"\n",
        "  choices= {\"player\":player_choice, \"computer\":computer_choice}\n",
        "\n",
        "  return choices\n",
        "\n",
        "choices = get_choices()\n",
        "print(choices)"
      ],
      "metadata": {
        "id": "_9k1DtPvdgi1",
        "colab": {
          "base_uri": "https://localhost:8080/"
        },
        "outputId": "8001a705-3b14-4b98-b84a-6aa289a66340"
      },
      "execution_count": null,
      "outputs": [
        {
          "output_type": "stream",
          "name": "stdout",
          "text": [
            "Enter a choice (rock, paper, scissors: rock\n",
            "{'player': 'rock', 'computer': 'paper'}\n"
          ]
        }
      ]
    },
    {
      "cell_type": "markdown",
      "source": [
        "## Libraries, Lists, Methods"
      ],
      "metadata": {
        "id": "tzZl3DOXdprh"
      }
    },
    {
      "cell_type": "code",
      "source": [
        "import random\n",
        "\n",
        "def get_choices():\n",
        "  player_choice = input(\"Enter a choice (rock, paper, scissors): \")\n",
        "  options=[\"rock\", \"paper\",\"scissors\"]\n",
        "  computer_choice = random.choice(options)\n",
        "  choices={\"player\": player_choice, \"computer\": computer_choice}\n",
        "\n",
        "  return choices\n",
        "\n",
        "choices = get_choices()\n",
        "print(choices)"
      ],
      "metadata": {
        "id": "_S9m4uMlds3G",
        "colab": {
          "base_uri": "https://localhost:8080/"
        },
        "outputId": "46a13017-c998-4d34-858b-e1cf06ba881f"
      },
      "execution_count": null,
      "outputs": [
        {
          "output_type": "stream",
          "name": "stdout",
          "text": [
            "Enter a choice (rock, paper, scissors): paper\n",
            "{'player': 'paper', 'computer': 'rock'}\n"
          ]
        }
      ]
    },
    {
      "cell_type": "markdown",
      "source": [
        "## Function Arguments"
      ],
      "metadata": {
        "id": "l-tGnRjadtV5"
      }
    },
    {
      "cell_type": "code",
      "source": [
        "import random\n",
        "\n",
        "def get_choices():\n",
        "  player_choice = input(\"Enter a choice (rock, paper, scissors): \")\n",
        "  options=[\"rock\", \"paper\",\"scissors\"]\n",
        "  computer_choice = random.choice(options)\n",
        "  choices={\"player\": player_choice, \"computer\": computer_choice}\n",
        "\n",
        "  return choices\n",
        "\n",
        "def check_win(player, computer):\n",
        "  return [player,computer]"
      ],
      "metadata": {
        "id": "EV16_MRKdumv"
      },
      "execution_count": null,
      "outputs": []
    },
    {
      "cell_type": "markdown",
      "source": [
        "## If Statements "
      ],
      "metadata": {
        "id": "03ei427ydvCH"
      }
    },
    {
      "cell_type": "code",
      "source": [
        "import random\n",
        "\n",
        "def get_choices():\n",
        "  player_choice = input(\"Enter a choice (rock, paper, scissors): \")\n",
        "  options=[\"rock\", \"paper\",\"scissors\"]\n",
        "  computer_choice = random.choice(options)\n",
        "  choices={\"player\": player_choice, \"computer\": computer_choice}\n",
        "\n",
        "  return choices\n",
        "\n",
        "def check_win(player, computer):\n",
        "  if player == computer:\n",
        "    return \"It's a tie!\"\n",
        " \n",
        "\n"
      ],
      "metadata": {
        "id": "KLdfAJpAdw5e"
      },
      "execution_count": null,
      "outputs": []
    },
    {
      "cell_type": "markdown",
      "source": [
        "## Concatenating Strings"
      ],
      "metadata": {
        "id": "lLc9dSxAdxlO"
      }
    },
    {
      "cell_type": "code",
      "source": [
        "import random\n",
        "\n",
        "def get_choices():\n",
        "  player_choice = input(\"Enter a choice (rock, paper, scissors): \")\n",
        "  options=[\"rock\", \"paper\",\"scissors\"]\n",
        "  computer_choice = random.choice(options)\n",
        "  choices={\"player\": player_choice, \"computer\": computer_choice}\n",
        "\n",
        "  return choices\n",
        "\n",
        "def check_win(player, computer):\n",
        "  print(\"Your chose\" + player ,\"Computer chose\" + computer)\n",
        "  if player == computer:\n",
        "    return \"It's a tie!\""
      ],
      "metadata": {
        "id": "Fe9SwQGddzI_"
      },
      "execution_count": null,
      "outputs": []
    },
    {
      "cell_type": "markdown",
      "source": [
        "## f-strings"
      ],
      "metadata": {
        "id": "P90e3Tehdzyo"
      }
    },
    {
      "cell_type": "code",
      "source": [
        "import random\n",
        "\n",
        "def get_choices():\n",
        "  player_choice= input(\"Enter a choice (rock, paper, scissors):\")\n",
        "  options=[\"rock\", \"paper\", \"scissors\"]\n",
        "  computer_choice= random.choice(options)\n",
        "  choices={\"player\":player_choice, \"computer\": computer_choice}\n",
        "\n",
        "  return choices\n",
        "\n",
        "def check_win(player, computer):\n",
        "  print(f\"Your chose {player}, Computer chose {computer}\")\n",
        "  if player == computer:\n",
        "    return \"It's a tie!\"\n",
        "\n",
        "check_win(\"rock\",\"paper\")"
      ],
      "metadata": {
        "id": "Qgo8cE3cd1Q2",
        "colab": {
          "base_uri": "https://localhost:8080/"
        },
        "outputId": "c85e406d-3f4d-47b1-b09d-2efb591b9b32"
      },
      "execution_count": null,
      "outputs": [
        {
          "output_type": "stream",
          "name": "stdout",
          "text": [
            "Your chose rock, Computer chose paper\n"
          ]
        }
      ]
    },
    {
      "cell_type": "markdown",
      "source": [
        "## Else and Elif Statements"
      ],
      "metadata": {
        "id": "u_mTakxBd2kS"
      }
    },
    {
      "cell_type": "code",
      "source": [
        "import random\n",
        "\n",
        "def get_choices():\n",
        "  player_choices= input(\"Enter a choice (rock, paper, scissors):\")\n",
        "  options=[\"rock\", \"paper\", \"scissors\"]\n",
        "  computer_choice= random.choice(options)\n",
        "  choices={\"player\":player_choices, \"computer\": computer_choice}\n",
        "\n",
        "  return choices\n",
        "\n",
        "def check_win(player, computer):\n",
        "  print(f\"Your chose {player}, Computer chose {computer}\")\n",
        "  if player == computer:\n",
        "    return \"It's a tie!\"\n",
        "  elif player ==\"rock\" and computer == \"scissors\":\n",
        "    return \"Rock smashes scissors! You win!\"\n",
        "  elif player ==\"rock\" and computer == \"paper\":\n",
        "    return \"Paper covers rock! You lose\"\n",
        "\n",
        "check_win(\"rock\",\"paper\")"
      ],
      "metadata": {
        "id": "zNjDnsigd2_W",
        "colab": {
          "base_uri": "https://localhost:8080/",
          "height": 53
        },
        "outputId": "90d6b628-c3ce-4dd1-a587-0db41817ca32"
      },
      "execution_count": null,
      "outputs": [
        {
          "output_type": "stream",
          "name": "stdout",
          "text": [
            "Your chose rock, Computer chose paper\n"
          ]
        },
        {
          "output_type": "execute_result",
          "data": {
            "text/plain": [
              "'Paper covers rock! You lose'"
            ],
            "application/vnd.google.colaboratory.intrinsic+json": {
              "type": "string"
            }
          },
          "metadata": {},
          "execution_count": 24
        }
      ]
    },
    {
      "cell_type": "markdown",
      "source": [
        "## Refactoring and Nested If"
      ],
      "metadata": {
        "id": "wS2xfKnod4eR"
      }
    },
    {
      "cell_type": "code",
      "source": [
        "import random\n",
        "\n",
        "def get_choices():\n",
        "  player_choices= input(\"Enter a choice (rock, paper, scissors):\")\n",
        "  options=[\"rock\", \"paper\", \"scissors\"]\n",
        "  computer_choice= random.choice(options)\n",
        "  choices={\"player\":player_choices, \"computer\": computer_choice}\n",
        "\n",
        "  return choices\n",
        "\n",
        "def check_win(player, computer):\n",
        "  print(f\"Your chose {player}, Computer chose {computer}\")\n",
        "  if player == computer:\n",
        "    return \"It's a tie!\"\n",
        "  elif player ==\"rock\":\n",
        "    if  computer == \"scissors\":\n",
        "      return \"Rock smashes scissors! You win!\"\n",
        "    else:\n",
        "      return \"Paper covers rock! You lose\"\n",
        "  \n",
        "  elif player ==\"paper\":\n",
        "    if  computer == \"rock\":\n",
        "      return \"Paper covers rock! You win!\"\n",
        "    else:\n",
        "      return \"Scissors cuts paper! You lose\"\n",
        "  \n",
        "  elif player ==\"scissors\":\n",
        "    if  computer == \"paper\":\n",
        "      return \"Scissors cuts paper! You win!\"\n",
        "    else:\n",
        "      return \" Rock smashes scissors! You lose\"\n",
        "\n",
        "choices = get_choices()\n"
      ],
      "metadata": {
        "id": "rIiYmwxfd5jW",
        "colab": {
          "base_uri": "https://localhost:8080/"
        },
        "outputId": "ee428e67-0a60-4ae0-dccf-b74765fa1c18"
      },
      "execution_count": null,
      "outputs": [
        {
          "name": "stdout",
          "output_type": "stream",
          "text": [
            "Enter a choice (rock, paper, scissors):rock\n"
          ]
        }
      ]
    },
    {
      "cell_type": "markdown",
      "source": [
        "## Accessing Dictionary Values"
      ],
      "metadata": {
        "id": "DD9fzpy-d62Y"
      }
    },
    {
      "cell_type": "code",
      "source": [
        "import random\n",
        "\n",
        "def get_choices():\n",
        "  player_choices= input(\"Enter a choice (rock, paper, scissors):\")\n",
        "  options=[\"rock\", \"paper\", \"scissors\"]\n",
        "  computer_choice= random.choice(options)\n",
        "  choices={\"player\":player_choices, \"computer\": computer_choice}\n",
        "\n",
        "  return choices\n",
        "\n",
        "def check_win(player, computer):\n",
        "  print(f\"Your chose {player}, Computer chose {computer}\")\n",
        "  if player == computer:\n",
        "    return \"It's a tie!\"\n",
        "  elif player ==\"rock\":\n",
        "    if  computer == \"scissors\":\n",
        "      return \"Rock smashes scissors! You win!\"\n",
        "    else:\n",
        "      return \"Paper covers rock! You lose\"\n",
        "  \n",
        "  elif player ==\"paper\":\n",
        "    if  computer == \"rock\":\n",
        "      return \"Paper covers rock! You win!\"\n",
        "    else:\n",
        "      return \"Scissors cuts paper! You lose\"\n",
        "  \n",
        "  elif player ==\"scissors\":\n",
        "    if  computer == \"paper\":\n",
        "      return \"Scissors cuts paper! You win!\"\n",
        "    else:\n",
        "      return \" Rock smashes scissors! You lose\"\n",
        "\n",
        "choices = get_choices()\n",
        "result = check_win(choices[\"player\"],choices[\"computer\"])\n",
        "print(result)"
      ],
      "metadata": {
        "id": "eY0OrKged7XW",
        "colab": {
          "base_uri": "https://localhost:8080/"
        },
        "outputId": "9adab653-30d9-42a1-fd97-61a9b4794625"
      },
      "execution_count": null,
      "outputs": [
        {
          "output_type": "stream",
          "name": "stdout",
          "text": [
            "Enter a choice (rock, paper, scissors):paper\n",
            "Your chose paper, Computer chose scissors\n",
            "Scissors cuts paper! You lose\n"
          ]
        }
      ]
    },
    {
      "cell_type": "markdown",
      "source": [
        "## Testing Game"
      ],
      "metadata": {
        "id": "6YCzWHIld9e9"
      }
    },
    {
      "cell_type": "code",
      "source": [
        "import random\n",
        "\n",
        "def get_choices():\n",
        "  player_choices= input(\"Enter a choice (rock, paper, scissors):\")\n",
        "  options=[\"rock\", \"paper\", \"scissors\"]\n",
        "  computer_choice= random.choice(options)\n",
        "  choices={\"player\":player_choices, \"computer\": computer_choice}\n",
        "\n",
        "  return choices\n",
        "\n",
        "def check_win(player, computer):\n",
        "  print(f\"Your chose {player}, Computer chose {computer}\")\n",
        "  if player == computer:\n",
        "    return \"It's a tie!\"\n",
        "  elif player ==\"rock\":\n",
        "    if  computer == \"scissors\":\n",
        "      return \"Rock smashes scissors! You win!\"\n",
        "    else:\n",
        "      return \"Paper covers rock! You lose\"\n",
        "  \n",
        "  elif player ==\"paper\":\n",
        "    if  computer == \"rock\":\n",
        "      return \"Paper covers rock! You win!\"\n",
        "    else:\n",
        "      return \"Scissors cuts paper! You lose\"\n",
        "  \n",
        "  elif player ==\"scissors\":\n",
        "    if  computer == \"paper\":\n",
        "      return \"Scissors cuts paper! You win!\"\n",
        "    else:\n",
        "      return \" Rock smashes scissors! You lose\"\n",
        "\n",
        "choices = get_choices()\n",
        "result = check_win(choices[\"player\"],choices[\"computer\"])\n",
        "print(result)"
      ],
      "metadata": {
        "id": "s0OEj-Gbd-On",
        "colab": {
          "base_uri": "https://localhost:8080/"
        },
        "outputId": "1403d1ca-b466-4f0f-88a5-42eb658c3351"
      },
      "execution_count": null,
      "outputs": [
        {
          "output_type": "stream",
          "name": "stdout",
          "text": [
            "Enter a choice (rock, paper, scissors):scissors\n",
            "Your chose scissors, Computer chose scissors\n",
            "It's a tie!\n"
          ]
        }
      ]
    },
    {
      "cell_type": "markdown",
      "source": [
        "## Variables"
      ],
      "metadata": {
        "id": "pMILE6PCeN9p"
      }
    },
    {
      "cell_type": "code",
      "source": [
        "name=\"Beau\"\n",
        "age = 39"
      ],
      "metadata": {
        "id": "EVFLtjhUeOWX"
      },
      "execution_count": null,
      "outputs": []
    },
    {
      "cell_type": "markdown",
      "source": [
        "## Expressions and Statements "
      ],
      "metadata": {
        "id": "6q1iRyb2ePuB"
      }
    },
    {
      "cell_type": "code",
      "source": [
        "name=\"beau\";print(name)"
      ],
      "metadata": {
        "id": "a3PXtTa0eREn",
        "outputId": "67621d85-e2f2-451e-e028-a6609e4eea84",
        "colab": {
          "base_uri": "https://localhost:8080/"
        }
      },
      "execution_count": null,
      "outputs": [
        {
          "output_type": "stream",
          "name": "stdout",
          "text": [
            "beau\n"
          ]
        }
      ]
    },
    {
      "cell_type": "markdown",
      "source": [
        "## Comments"
      ],
      "metadata": {
        "id": "2rCTKhRLeRuE"
      }
    },
    {
      "cell_type": "code",
      "source": [
        "#this is commented line\n",
        "name =\"beau\" #this is an inline comment\n",
        "print(name)"
      ],
      "metadata": {
        "id": "x1raHR6OeTCn",
        "outputId": "e0da39da-19c7-4cc3-b162-e2eea2ff1e44",
        "colab": {
          "base_uri": "https://localhost:8080/"
        }
      },
      "execution_count": null,
      "outputs": [
        {
          "output_type": "stream",
          "name": "stdout",
          "text": [
            "beau\n"
          ]
        }
      ]
    },
    {
      "cell_type": "markdown",
      "source": [
        "## Data Types"
      ],
      "metadata": {
        "id": "Y4UgKDOZeTlw"
      }
    },
    {
      "cell_type": "code",
      "source": [
        "print(\"1)\")\n",
        "name=\"beau\"\n",
        "print(type(name))\n",
        "\n",
        "print(\"2)\")\n",
        "name=\"beau\"\n",
        "print(type(name) == str)\n",
        "\n",
        "print(\"3)\")\n",
        "name=\"beau\"\n",
        "print(isinstance(name,str))\n",
        "\n",
        "print(\"4)\")\n",
        "age =2\n",
        "print(isinstance(age,int))\n",
        "\n",
        "print(\"5)\")\n",
        "age =2\n",
        "print(isinstance(age,float)) #checking whether it is a float\n",
        "\n",
        "print(\"6)\")\n",
        "age =2.0\n",
        "print(isinstance(age,float)) #checking whether it is a float\n",
        "\n",
        "print(\"7)\")\n",
        "age =float(2) #converting into float\n",
        "print(isinstance(age,float)) #checking is it float\n",
        "\n",
        "print(\"8)\")\n",
        "age = \"20\"\n",
        "print(isinstance(age, int)) #checking is it a integer and answer is false\n",
        "\n",
        "print(\"9)\")\n",
        "number=\"20\"\n",
        "age = int(number) #converting\n",
        "print(isinstance(age, int))\n"
      ],
      "metadata": {
        "id": "5e5xG42ReVSf",
        "outputId": "024c1e93-2f16-4ac7-8d76-b2eb53872d00",
        "colab": {
          "base_uri": "https://localhost:8080/"
        }
      },
      "execution_count": null,
      "outputs": [
        {
          "output_type": "stream",
          "name": "stdout",
          "text": [
            "1)\n",
            "<class 'str'>\n",
            "2)\n",
            "True\n",
            "3)\n",
            "True\n",
            "4)\n",
            "True\n",
            "5)\n",
            "False\n",
            "6)\n",
            "True\n",
            "7)\n",
            "True\n",
            "8)\n",
            "False\n",
            "9)\n",
            "True\n"
          ]
        }
      ]
    },
    {
      "cell_type": "markdown",
      "source": [
        "## Operators"
      ],
      "metadata": {
        "id": "mwrnTSyGeWYd"
      }
    },
    {
      "cell_type": "code",
      "source": [
        "age=20"
      ],
      "metadata": {
        "id": "Mi8S3b5KeWx3"
      },
      "execution_count": null,
      "outputs": []
    },
    {
      "cell_type": "markdown",
      "source": [
        "## Arithmetic Operators"
      ],
      "metadata": {
        "id": "whKmv46teX5c"
      }
    },
    {
      "cell_type": "code",
      "source": [
        "age=8\n",
        "age +=8 #age= age + 8\n",
        "print(age)\n",
        "\n",
        "age=8\n",
        "age *=8 #age= age * 8\n",
        "print(age)"
      ],
      "metadata": {
        "id": "Y4rSawE8eYTP",
        "outputId": "0a76f2b9-831c-4bb3-dffd-e54bde373f3d",
        "colab": {
          "base_uri": "https://localhost:8080/"
        }
      },
      "execution_count": null,
      "outputs": [
        {
          "output_type": "stream",
          "name": "stdout",
          "text": [
            "16\n",
            "64\n"
          ]
        }
      ]
    },
    {
      "cell_type": "markdown",
      "source": [
        "## Comparison Operators"
      ],
      "metadata": {
        "id": "6FmHbmxqeZq9"
      }
    },
    {
      "cell_type": "code",
      "source": [
        "a = 1; b =2;\n",
        "print(a == b)\n",
        "print( a!=b)\n",
        "print( a > b )\n",
        "print( a <= b)"
      ],
      "metadata": {
        "id": "41c0Nb_QeaBZ",
        "outputId": "00619f59-b87b-41a3-f97f-f020f37eb10b",
        "colab": {
          "base_uri": "https://localhost:8080/"
        }
      },
      "execution_count": null,
      "outputs": [
        {
          "output_type": "stream",
          "name": "stdout",
          "text": [
            "False\n",
            "True\n",
            "False\n",
            "True\n"
          ]
        }
      ]
    },
    {
      "cell_type": "markdown",
      "source": [
        "## Boolean Operators"
      ],
      "metadata": {
        "id": "2-J7FeH7ebK1"
      }
    },
    {
      "cell_type": "code",
      "source": [
        "#not, or , and\n",
        "#true = 1, false =0\n",
        "\n",
        "#OR OPERATORS GIVES TRUE/ FALSE = either value must be true\n",
        "print( 0 or 1)\n",
        "print( False or \"hey\")\n",
        "print(\"hi\" or \"hey\")\n",
        "print(False or  [])\n",
        "print([] or False)\n",
        "\n",
        "#AND OPERAOTOR \n",
        "print(\"\")\n",
        "print( 0 and 1)\n",
        "print( False and \"hey\")\n",
        "print(\"hi\" and \"hey\")\n",
        "print(False and  [])\n",
        "print([] and False)\n"
      ],
      "metadata": {
        "id": "kLdYyK5XebiG",
        "outputId": "6f91aa7c-b82c-497e-d148-371d62e3fd65",
        "colab": {
          "base_uri": "https://localhost:8080/"
        }
      },
      "execution_count": null,
      "outputs": [
        {
          "output_type": "stream",
          "name": "stdout",
          "text": [
            "1\n",
            "hey\n",
            "hi\n",
            "[]\n",
            "False\n",
            "\n",
            "0\n",
            "False\n",
            "hey\n",
            "False\n",
            "[]\n"
          ]
        }
      ]
    },
    {
      "cell_type": "markdown",
      "source": [
        "## Bitwise Operators"
      ],
      "metadata": {
        "id": "TaKZjFosec8n"
      }
    },
    {
      "cell_type": "code",
      "source": [
        "& AND OPERAOTOn\n",
        "| OR\n",
        "^ XOR OPERATION\n",
        "~ NOT \n",
        "<< SHIFT LEFT\n",
        ">> SHIFT RIGHT"
      ],
      "metadata": {
        "id": "MByGcBpOedUG"
      },
      "execution_count": null,
      "outputs": []
    },
    {
      "cell_type": "markdown",
      "source": [
        "## is & in Operators"
      ],
      "metadata": {
        "id": "hV5q9mC-eeo4"
      }
    },
    {
      "cell_type": "code",
      "source": [
        "is ,in"
      ],
      "metadata": {
        "id": "Ndi4cnzlefAP"
      },
      "execution_count": null,
      "outputs": []
    },
    {
      "cell_type": "markdown",
      "source": [
        "## Ternary Operator"
      ],
      "metadata": {
        "id": "CUEmAwccegYF"
      }
    },
    {
      "cell_type": "code",
      "source": [
        "#quickly defined a conditional\n",
        "def is_adult(age):\n",
        "  if age > 18:\n",
        "    return True\n",
        "  else :  \n",
        "    return False\n",
        "\n",
        "#instead of this \n",
        "def is_adult2(age):\n",
        "  return True if age > 18 else False\n",
        "\n",
        "is_adult2 = 30\n",
        "print(f\"The adult2 age is greater than 18  and correct age is {is_adult2}\")"
      ],
      "metadata": {
        "id": "MF-zLeiRegw2",
        "outputId": "a20592c4-47b9-4dd3-c3bf-0039b796de8a",
        "colab": {
          "base_uri": "https://localhost:8080/"
        }
      },
      "execution_count": null,
      "outputs": [
        {
          "output_type": "stream",
          "name": "stdout",
          "text": [
            "The adult2 age is greater than 18  and correct age is 30\n"
          ]
        }
      ]
    },
    {
      "cell_type": "markdown",
      "source": [
        "## Strings"
      ],
      "metadata": {
        "id": "7L1YgOd8eh5h"
      }
    },
    {
      "cell_type": "code",
      "source": [
        "name= \"Beau\"\n",
        "name +=\" is my name\"\n",
        "print(name)\n",
        "\n",
        "print(\"\"\" Beau\n",
        "\n",
        "is \n",
        "39 \n",
        "\n",
        "years old\"\"\")"
      ],
      "metadata": {
        "id": "kwFNtWYkei_u",
        "outputId": "45592273-b71d-471f-c34f-5fe939cb6479",
        "colab": {
          "base_uri": "https://localhost:8080/"
        }
      },
      "execution_count": null,
      "outputs": [
        {
          "output_type": "stream",
          "name": "stdout",
          "text": [
            "Beau is my name\n",
            " Beau\n",
            "\n",
            "is \n",
            "39 \n",
            "\n",
            "years old\n"
          ]
        }
      ]
    },
    {
      "cell_type": "markdown",
      "source": [
        "## String Methods"
      ],
      "metadata": {
        "id": "_2IoegzLek6x"
      }
    },
    {
      "cell_type": "code",
      "source": [
        "print(\"beau\".upper())\n",
        "print(\"bEAu\".lower())\n",
        "print(\"beau is a person\".title())\n",
        "print(\"bEAu\".islower())\n",
        "print(\"beau\".islower())\n",
        "print(\"\")\n",
        "name=\"Beau\"\n",
        "print(len(name))\n",
        "print(\"au\" in name)"
      ],
      "metadata": {
        "id": "Q6mQwv5_elY2",
        "outputId": "c1f282ea-7ae0-4209-f239-13ca1b7343e0",
        "colab": {
          "base_uri": "https://localhost:8080/"
        }
      },
      "execution_count": null,
      "outputs": [
        {
          "output_type": "stream",
          "name": "stdout",
          "text": [
            "BEAU\n",
            "beau\n",
            "Beau Is A Person\n",
            "False\n",
            "True\n",
            "\n",
            "4\n",
            "True\n"
          ]
        }
      ]
    },
    {
      "cell_type": "markdown",
      "source": [
        "## Escaping Characters"
      ],
      "metadata": {
        "id": "u9cxX7ciemf8"
      }
    },
    {
      "cell_type": "code",
      "source": [
        "name=\"Be'\\'au\" #\" \\ \" escape characters\n",
        "print(name)"
      ],
      "metadata": {
        "id": "qHh5l3Eiem_H",
        "outputId": "0c8b0d68-5902-4d3d-d20d-850ffc768069",
        "colab": {
          "base_uri": "https://localhost:8080/"
        }
      },
      "execution_count": null,
      "outputs": [
        {
          "output_type": "stream",
          "name": "stdout",
          "text": [
            "Be''au\n"
          ]
        }
      ]
    },
    {
      "cell_type": "markdown",
      "source": [
        "## String Characters & Slicing"
      ],
      "metadata": {
        "id": "splRgy3JeoGJ"
      }
    },
    {
      "cell_type": "code",
      "source": [
        "name =\"Beau is cool\"\n",
        "print(name[1])\n",
        "\n",
        "print(name[-1])\n",
        "\n",
        "print(name[1:7])"
      ],
      "metadata": {
        "id": "6Xt-fu0Beop2",
        "outputId": "65bd2b67-55bd-495c-f136-7884c47f6305",
        "colab": {
          "base_uri": "https://localhost:8080/"
        }
      },
      "execution_count": null,
      "outputs": [
        {
          "output_type": "stream",
          "name": "stdout",
          "text": [
            "e\n",
            "l\n",
            "eau is\n"
          ]
        }
      ]
    },
    {
      "cell_type": "markdown",
      "source": [
        "## Booleans"
      ],
      "metadata": {
        "id": "ba0Wi85Vepwa"
      }
    },
    {
      "cell_type": "code",
      "source": [
        "done = 20 #false only it is empty\n",
        "if done:\n",
        "  print(\"Yes\")\n",
        "else:\n",
        "  print(\"No\")"
      ],
      "metadata": {
        "id": "Ylg0Z_8weqOf",
        "outputId": "8f62501c-9f97-4ad9-d0fa-4e6ef543bf41",
        "colab": {
          "base_uri": "https://localhost:8080/"
        }
      },
      "execution_count": null,
      "outputs": [
        {
          "output_type": "stream",
          "name": "stdout",
          "text": [
            "Yes\n"
          ]
        }
      ]
    },
    {
      "cell_type": "markdown",
      "source": [
        "## Number Data Types"
      ],
      "metadata": {
        "id": "GAsbi4JFerlH"
      }
    },
    {
      "cell_type": "code",
      "source": [
        "num1 = 2+3j;\n",
        "num2 = complex(2,3);\n",
        "\n",
        "print(num2.real, num2.imag)"
      ],
      "metadata": {
        "id": "WQuOcuvUer_X",
        "outputId": "9348c697-0e57-4def-b46d-89bffba29625",
        "colab": {
          "base_uri": "https://localhost:8080/"
        }
      },
      "execution_count": 38,
      "outputs": [
        {
          "output_type": "stream",
          "name": "stdout",
          "text": [
            "2.0 3.0\n"
          ]
        }
      ]
    },
    {
      "cell_type": "markdown",
      "source": [
        "## Built-in Functions"
      ],
      "metadata": {
        "id": "XolXXFBaetuF"
      }
    },
    {
      "cell_type": "code",
      "source": [
        "print(abs(-5.5))\n",
        "print(round(5.49,1))"
      ],
      "metadata": {
        "id": "cZiBq-tWeuJv",
        "outputId": "adc147ba-32d9-4bce-f420-c37d48e23f46",
        "colab": {
          "base_uri": "https://localhost:8080/"
        }
      },
      "execution_count": null,
      "outputs": [
        {
          "output_type": "stream",
          "name": "stdout",
          "text": [
            "5.5\n",
            "5.5\n"
          ]
        }
      ]
    },
    {
      "cell_type": "markdown",
      "source": [
        "## Enums"
      ],
      "metadata": {
        "id": "I53j-y1HevDM"
      }
    },
    {
      "cell_type": "code",
      "source": [
        "#readable nums to import from lib\n",
        "from enum import Enum\n",
        "\n",
        "class State(Enum):\n",
        "  INACTIVE = 0\n",
        "  ACTIVE = 1\n",
        "\n",
        "print(State.ACTIVE)\n",
        "print(State.ACTIVE.value)\n",
        "print(State(1))\n",
        "print(State['ACTIVE'].value)\n",
        "print(len(State))"
      ],
      "metadata": {
        "id": "NEVbNcKMevfn",
        "outputId": "6f9c2336-f041-4b63-9a51-615ce25a9d7f",
        "colab": {
          "base_uri": "https://localhost:8080/"
        }
      },
      "execution_count": null,
      "outputs": [
        {
          "output_type": "stream",
          "name": "stdout",
          "text": [
            "State.ACTIVE\n",
            "1\n",
            "State.ACTIVE\n",
            "1\n",
            "2\n"
          ]
        }
      ]
    },
    {
      "cell_type": "markdown",
      "source": [
        "## User Input"
      ],
      "metadata": {
        "id": "TYB97bGcewsF"
      }
    },
    {
      "cell_type": "code",
      "source": [
        "age = input(\"What is your age? \")\n",
        "print(\"Your age is \" + age)"
      ],
      "metadata": {
        "id": "R6Tn9dRvexUX",
        "outputId": "1e070f7d-132b-45fd-a975-e8ebaaf3c6b0",
        "colab": {
          "base_uri": "https://localhost:8080/"
        }
      },
      "execution_count": null,
      "outputs": [
        {
          "output_type": "stream",
          "name": "stdout",
          "text": [
            "What is your age? 21\n",
            "Your age is 21\n"
          ]
        }
      ]
    },
    {
      "cell_type": "markdown",
      "source": [
        "## Control Statements"
      ],
      "metadata": {
        "id": "S7iXVmC_eyow"
      }
    },
    {
      "cell_type": "code",
      "source": [
        "condition = False\n",
        "if condition == True:\n",
        "  print(\"The is condition \")\n",
        "  print(\"is True\")\n",
        "else:\n",
        "  print(\"The condition is \")\n",
        "  print(\"is False\")\n",
        "\n",
        "print(\"\")\n"
      ],
      "metadata": {
        "id": "CX7ztXvKey_e",
        "outputId": "56c80f55-6c49-4c89-d7c6-b1b130bd55b5",
        "colab": {
          "base_uri": "https://localhost:8080/"
        }
      },
      "execution_count": null,
      "outputs": [
        {
          "output_type": "stream",
          "name": "stdout",
          "text": [
            "The condition is \n",
            "is False\n"
          ]
        }
      ]
    },
    {
      "cell_type": "markdown",
      "source": [
        "## Lists"
      ],
      "metadata": {
        "id": "-o62Jhgcez5h"
      }
    },
    {
      "cell_type": "code",
      "source": [
        "dogs =[\"Roger\", 1, \"Syd\", True, \"Quincy\", 7]\n",
        "print(\"beau\" in dogs)\n",
        "dogs[2] = \"Beau\"\n",
        "dogs.append(\"Judah\")\n",
        "dogs.extend([\"Tommy\", 5])\n",
        "#dogs +=\"Timmy\"\n",
        "dogs.remove(True)\n",
        "print(dogs)\n",
        "print(dogs[2:6])\n",
        "print(len(dogs))\n",
        "dogs.pop(5)\n"
      ],
      "metadata": {
        "id": "Ph58MxB2e0RX",
        "outputId": "781719e9-5664-4306-a009-8a9e6baf41ca",
        "colab": {
          "base_uri": "https://localhost:8080/",
          "height": 105
        }
      },
      "execution_count": null,
      "outputs": [
        {
          "output_type": "stream",
          "name": "stdout",
          "text": [
            "False\n",
            "['Roger', 'Beau', True, 'Quincy', 7, 'Judah', 'Tommy', 5]\n",
            "[True, 'Quincy', 7, 'Judah']\n",
            "8\n"
          ]
        },
        {
          "output_type": "execute_result",
          "data": {
            "text/plain": [
              "'Judah'"
            ],
            "application/vnd.google.colaboratory.intrinsic+json": {
              "type": "string"
            }
          },
          "metadata": {},
          "execution_count": 58
        }
      ]
    },
    {
      "cell_type": "markdown",
      "source": [
        "## Sorting Lists"
      ],
      "metadata": {
        "id": "JXCNZ6obe1Rk"
      }
    },
    {
      "cell_type": "code",
      "source": [
        "items =[\"Roger\", 1, \"Syd\", True, \"Quincy\", 7]\n",
        "items.insert(1, \"9\")\n",
        "print(items)\n",
        "\n",
        "print(\"\")\n",
        "print(\"Sorting Lists\")\n",
        "items2 =[\"Roger\", \"Syd\", \"Quincy\"]\n",
        "items2.sort()\n",
        "print(items2)\n",
        "\n",
        "print(\"\")\n",
        "print(\"Sorting with lower case\")\n",
        "items3 =[\"Roger\",\"roger\", \"Syd\", \"Quincy\"]\n",
        "items3.sort(key=str.lower)\n",
        "print(items3)\n",
        "\n",
        "print(\"\")\n",
        "print(\"Sorting without modifying original lists\")\n",
        "items4 =[\"Roger\",\"roger\", \"Syd\", \"Quincy\"]\n",
        "print(sorted(items4, key=str.lower))\n",
        "print(items4)\n"
      ],
      "metadata": {
        "id": "lQVmMqQNe1nG",
        "outputId": "6d5517f0-6ace-4e1a-c866-a83d7dfee218",
        "colab": {
          "base_uri": "https://localhost:8080/"
        }
      },
      "execution_count": 8,
      "outputs": [
        {
          "output_type": "stream",
          "name": "stdout",
          "text": [
            "['Roger', '9', 1, 'Syd', True, 'Quincy', 7]\n",
            "\n",
            "Sorting Lists\n",
            "['Quincy', 'Roger', 'Syd']\n",
            "\n",
            "Sorting with lower case\n",
            "['Quincy', 'Roger', 'roger', 'Syd']\n",
            "\n",
            "Sorting without modifying original lists\n",
            "['Quincy', 'Roger', 'roger', 'Syd']\n",
            "['Roger', 'roger', 'Syd', 'Quincy']\n"
          ]
        }
      ]
    },
    {
      "cell_type": "markdown",
      "source": [
        "## Tuples"
      ],
      "metadata": {
        "id": "v-XATXsSe2fU"
      }
    },
    {
      "cell_type": "code",
      "source": [
        "name = (\"roger\", \"Syd\",\"beau\")\n",
        "print(name[-1])\n",
        "print(name.index(\"roger\"))\n",
        "print(len(name))\n",
        "print(\"roger\" in name) #cannot modify tuples\n",
        "print(sorted(name))"
      ],
      "metadata": {
        "id": "lywfMI8xe2y-",
        "colab": {
          "base_uri": "https://localhost:8080/"
        },
        "outputId": "9a329d01-4763-40cc-ed20-fff59a5e7f0f"
      },
      "execution_count": 17,
      "outputs": [
        {
          "output_type": "stream",
          "name": "stdout",
          "text": [
            "beau\n",
            "0\n",
            "3\n",
            "True\n",
            "['Syd', 'beau', 'roger']\n"
          ]
        }
      ]
    },
    {
      "cell_type": "markdown",
      "source": [
        "## Dictionaries"
      ],
      "metadata": {
        "id": "z51qJ72re38l"
      }
    },
    {
      "cell_type": "code",
      "source": [
        "dog = { \"name\": \"roger\",\"age\":8, \"color\" : \"pale white\" }\n",
        "dog[\"name\"]= \"syd\"\n",
        "\n",
        "#print(dog.get(\"color\",\"brown\"))\n",
        "#print(dog.pop(\"name\")) #remove specific one\n",
        "#print(dog.popitem()) #remove last element\n",
        "\n",
        "print(\"color\" in dog)\n",
        "print(dog.keys())\n",
        "print(dog.values())\n",
        "print(dog.items())\n",
        "print(list(dog.items()))\n",
        "print(len(dog))\n",
        "dog[\"favorite food\"] = \"meat\"\n",
        "print(dog)"
      ],
      "metadata": {
        "id": "AswcmGTke4VG",
        "colab": {
          "base_uri": "https://localhost:8080/"
        },
        "outputId": "9f8190cb-7d1b-4ffe-d91d-2e8ff0321cb4"
      },
      "execution_count": 43,
      "outputs": [
        {
          "output_type": "stream",
          "name": "stdout",
          "text": [
            "True\n",
            "dict_keys(['name', 'age', 'color'])\n",
            "dict_values(['syd', 8, 'pale white'])\n",
            "dict_items([('name', 'syd'), ('age', 8), ('color', 'pale white')])\n",
            "[('name', 'syd'), ('age', 8), ('color', 'pale white')]\n",
            "3\n",
            "{'name': 'syd', 'age': 8, 'color': 'pale white', 'favorite food': 'meat'}\n"
          ]
        }
      ]
    },
    {
      "cell_type": "markdown",
      "source": [
        "## Sets"
      ],
      "metadata": {
        "id": "o93NW4-Be5cC"
      }
    },
    {
      "cell_type": "code",
      "source": [
        "set1 = {\"roger\" , \"syd\",\"roger\"}\n",
        "set2 = {\"roger\"}\n",
        "intersect = set1 & set2 #common one\n",
        "print(intersect)\n",
        "\n",
        "print(\"\")\n",
        "#mod = set1 | set2 #unique\n",
        "#mod = set1 - set2\n",
        "#mod = set1 > set2 #< ,> \n",
        "print(list(set1))"
      ],
      "metadata": {
        "id": "v3CIIJeAe5xu",
        "colab": {
          "base_uri": "https://localhost:8080/"
        },
        "outputId": "2a42d1ec-8909-4ffb-cc31-819b48d2120c"
      },
      "execution_count": 51,
      "outputs": [
        {
          "output_type": "stream",
          "name": "stdout",
          "text": [
            "{'roger'}\n",
            "\n",
            "['roger', 'syd']\n"
          ]
        }
      ]
    },
    {
      "cell_type": "markdown",
      "source": [
        "## Functions"
      ],
      "metadata": {
        "id": "UlOZz1nwe66p"
      }
    },
    {
      "cell_type": "code",
      "source": [
        "def hello(name , age):\n",
        "  print(\"Hello \" + name +\", you are \"+  str(age)+ \" years old!\")\n",
        "\n",
        "hello(\"Beau\", 40)\n",
        "print(\"\")\n",
        "\n",
        "def change(value):\n",
        "  value = 2\n",
        "\n",
        "val =1\n",
        "change(val)\n",
        "print(val)\n",
        "\n",
        "def hello(name):\n",
        "  if not name:\n",
        "    return\n",
        "  print(\"Hello \" + name+ \" !\")\n",
        "\n",
        "hello(\"beau\")\n",
        "\n",
        "def hello(name):\n",
        "  print(\"Hello\"+ name+ \" !\" )\n",
        "  return name, \"Beau\", 8\n",
        "\n",
        "print(hello(\"Syd\"))"
      ],
      "metadata": {
        "id": "i4lZX_n8e7TO",
        "colab": {
          "base_uri": "https://localhost:8080/"
        },
        "outputId": "edd3072f-faa0-456d-b4bf-ce407ff2d57f"
      },
      "execution_count": 69,
      "outputs": [
        {
          "output_type": "stream",
          "name": "stdout",
          "text": [
            "Hello Beau, you are 40 years old!\n",
            "\n",
            "1\n",
            "Hello beau !\n",
            "HelloSyd !\n",
            "('Syd', 'Beau', 8)\n"
          ]
        }
      ]
    },
    {
      "cell_type": "markdown",
      "source": [
        "## Variable Scope"
      ],
      "metadata": {
        "id": "YfJx0wrPe8mH"
      }
    },
    {
      "cell_type": "code",
      "source": [
        "age = 20 #global varible\n",
        "def test():\n",
        "  age = 10 #local variable\n",
        "  print(age)\n",
        "\n",
        "\n",
        "test()\n",
        "print(age)\n",
        "\n",
        "\n",
        "\n"
      ],
      "metadata": {
        "id": "96Jp-il7e9A2",
        "colab": {
          "base_uri": "https://localhost:8080/"
        },
        "outputId": "ff3a8a5e-73ab-4bf6-de6f-db23160831d8"
      },
      "execution_count": 102,
      "outputs": [
        {
          "output_type": "stream",
          "name": "stdout",
          "text": [
            "10\n",
            "20\n"
          ]
        }
      ]
    },
    {
      "cell_type": "markdown",
      "source": [
        "## Nested Functions "
      ],
      "metadata": {
        "id": "rsdLZV63e-VW"
      }
    },
    {
      "cell_type": "code",
      "source": [
        "def count():\n",
        "  count = 0\n",
        "\n",
        "  def increment():\n",
        "    nonlocal count\n",
        "    count = count + 1\n",
        "    print(count)\n",
        "  \n",
        "  increment()\n",
        "count()"
      ],
      "metadata": {
        "id": "C4gt9Kjoe-ve",
        "colab": {
          "base_uri": "https://localhost:8080/"
        },
        "outputId": "2196fc89-aa51-4cec-af1b-b5ed77bf3bee"
      },
      "execution_count": 106,
      "outputs": [
        {
          "output_type": "stream",
          "name": "stdout",
          "text": [
            "1\n"
          ]
        }
      ]
    },
    {
      "cell_type": "markdown",
      "source": [
        "## Closures"
      ],
      "metadata": {
        "id": "fM8dAnvie_p6"
      }
    },
    {
      "cell_type": "code",
      "source": [
        "def counter():\n",
        "  count = 0\n",
        "\n",
        "  def increment():\n",
        "    nonlocal count\n",
        "    count = count + 1\n",
        "    return count\n",
        "  return increment\n",
        "\n",
        "increment = counter()\n",
        "print(increment())\n",
        "print(increment())\n",
        "print(increment())\n"
      ],
      "metadata": {
        "id": "kZCiwrFtfADm",
        "colab": {
          "base_uri": "https://localhost:8080/"
        },
        "outputId": "02476bf6-7187-4218-ee19-ff569cb2f71b"
      },
      "execution_count": 117,
      "outputs": [
        {
          "output_type": "stream",
          "name": "stdout",
          "text": [
            "1\n",
            "2\n",
            "3\n"
          ]
        }
      ]
    },
    {
      "cell_type": "markdown",
      "source": [
        "## Objects"
      ],
      "metadata": {
        "id": "C02Pc0GCfBB_"
      }
    },
    {
      "cell_type": "code",
      "source": [
        " age = 8\n",
        " #print(age.real)\n",
        " #print(age.imag)\n",
        " #print(age.bit_length())\n",
        "\n",
        " items =[1,2]\n",
        " #print(items.pop())\n",
        " items.append(3)\n",
        " #print(id(items))\n",
        "\n",
        " "
      ],
      "metadata": {
        "id": "2W0N_9JRfBZu",
        "colab": {
          "base_uri": "https://localhost:8080/"
        },
        "outputId": "df67249c-5a36-4a9d-c6f4-246d49e69393"
      },
      "execution_count": 9,
      "outputs": [
        {
          "output_type": "stream",
          "name": "stdout",
          "text": [
            "2\n",
            "None\n",
            "139879678754080\n"
          ]
        }
      ]
    },
    {
      "cell_type": "markdown",
      "source": [
        "## Loops"
      ],
      "metadata": {
        "id": "Q4Qhe-HufCe7"
      }
    },
    {
      "cell_type": "code",
      "source": [
        "#while and for loops\n",
        "#while always infinite loop\n",
        "#count = 0\n",
        "#while count < 5:\n",
        "  #print(\"The condition is True\")\n",
        " # count = count + 1\n",
        "\n",
        "#print(\"After the loop\")\n",
        "\n",
        "#for loop\n",
        "#items = [1,2,3,4]\n",
        "#for item in items:\n",
        "  #print(item)\n",
        "\n",
        "#print(\"\")\n",
        "#for item in range(15):\n",
        "  #print(item)\n",
        "\n",
        "items = [1,2,3,4]\n",
        "for index,item in enumerate(items):\n",
        "  print(index, item)"
      ],
      "metadata": {
        "id": "VD4BYaZYfC52",
        "colab": {
          "base_uri": "https://localhost:8080/"
        },
        "outputId": "3b5c63f2-8d4f-4823-dd49-d4a7fef06099"
      },
      "execution_count": 23,
      "outputs": [
        {
          "output_type": "stream",
          "name": "stdout",
          "text": [
            "0 1\n",
            "1 2\n",
            "2 3\n",
            "3 4\n"
          ]
        }
      ]
    },
    {
      "cell_type": "markdown",
      "source": [
        "## Break and Continue"
      ],
      "metadata": {
        "id": "Xabbhir4fED1"
      }
    },
    {
      "cell_type": "code",
      "source": [
        "items = [1,2,3,4]\n",
        "for item in items:\n",
        "  if item ==2:\n",
        "    continue\n",
        "  print(item)\n",
        "\n",
        "items = [1,2,3,4]\n",
        "for item in items:\n",
        "  if item ==2:\n",
        "    break\n",
        "  print(item)"
      ],
      "metadata": {
        "id": "C5_SdToCfEYu",
        "colab": {
          "base_uri": "https://localhost:8080/"
        },
        "outputId": "e5172d33-abbe-4e23-871b-7ef99dc4041f"
      },
      "execution_count": 26,
      "outputs": [
        {
          "output_type": "stream",
          "name": "stdout",
          "text": [
            "1\n",
            "3\n",
            "4\n",
            "1\n"
          ]
        }
      ]
    },
    {
      "cell_type": "markdown",
      "source": [
        "## Classes"
      ],
      "metadata": {
        "id": "S7Akc8MUfFUB"
      }
    },
    {
      "cell_type": "code",
      "source": [
        "class dog:\n",
        "  def __init__(self, name, age):\n",
        "    self.name = name\n",
        "    self.age = age\n",
        "\n",
        "  def bark(self):\n",
        "    return \"woof!\"\n",
        "\n",
        "Dog = dog(\"roger\", 8)\n",
        "print(Dog.name)\n",
        "print(Dog.age)\n",
        "print(Dog.bark())"
      ],
      "metadata": {
        "id": "ZP_gl9IrfFvm",
        "colab": {
          "base_uri": "https://localhost:8080/"
        },
        "outputId": "a3503821-77ea-4906-b966-8fea4d006ff7"
      },
      "execution_count": 30,
      "outputs": [
        {
          "output_type": "stream",
          "name": "stdout",
          "text": [
            "roger\n",
            "8\n",
            "woof!\n"
          ]
        }
      ]
    },
    {
      "cell_type": "markdown",
      "source": [
        "## Modules"
      ],
      "metadata": {
        "id": "voM_fnldfGsC"
      }
    },
    {
      "cell_type": "code",
      "source": [
        "from dog import bark\n",
        "\n",
        "brak()"
      ],
      "metadata": {
        "id": "SfXtMHMufHd-"
      },
      "execution_count": 43,
      "outputs": []
    },
    {
      "cell_type": "markdown",
      "source": [
        "## Arguments from Command Line"
      ],
      "metadata": {
        "id": "lS2yKZnSfK3E"
      }
    },
    {
      "cell_type": "code",
      "source": [],
      "metadata": {
        "id": "HetLVVF3fLUP"
      },
      "execution_count": 46,
      "outputs": []
    },
    {
      "cell_type": "markdown",
      "source": [
        "## Lambda Functions"
      ],
      "metadata": {
        "id": "ly5LEeRefMt2"
      }
    },
    {
      "cell_type": "code",
      "source": [],
      "metadata": {
        "id": "BeZeGnl0fNCO"
      },
      "execution_count": null,
      "outputs": []
    },
    {
      "cell_type": "markdown",
      "source": [
        "## Map, Filter, Reduce"
      ],
      "metadata": {
        "id": "7Gh4uf41fOna"
      }
    },
    {
      "cell_type": "code",
      "source": [],
      "metadata": {
        "id": "x3ZW62tGfO7_"
      },
      "execution_count": null,
      "outputs": []
    },
    {
      "cell_type": "markdown",
      "source": [
        "## Recursion "
      ],
      "metadata": {
        "id": "q_isGYkCfQBP"
      }
    },
    {
      "cell_type": "code",
      "source": [],
      "metadata": {
        "id": "AaT1_pmUfQhW"
      },
      "execution_count": null,
      "outputs": []
    },
    {
      "cell_type": "markdown",
      "source": [
        "# The remaining modules from the Video is Optional if you wish to continue you can continue"
      ],
      "metadata": {
        "id": "N2Glk5gYfSnV"
      }
    },
    {
      "cell_type": "code",
      "source": [],
      "metadata": {
        "id": "KP3bIsY-fcEG"
      },
      "execution_count": null,
      "outputs": []
    }
  ]
}