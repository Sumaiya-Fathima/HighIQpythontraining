{
  "nbformat": 4,
  "nbformat_minor": 0,
  "metadata": {
    "colab": {
      "provenance": [],
      "authorship_tag": "ABX9TyMhVgp53W1f8dKTy108UOwV",
      "include_colab_link": true
    },
    "kernelspec": {
      "name": "python3",
      "display_name": "Python 3"
    },
    "language_info": {
      "name": "python"
    }
  },
  "cells": [
    {
      "cell_type": "markdown",
      "metadata": {
        "id": "view-in-github",
        "colab_type": "text"
      },
      "source": [
        "<a href=\"https://colab.research.google.com/github/Sumaiya-Fathima/HighIQpythontraining/blob/main/Practice_exercise_sumaiya.ipynb\" target=\"_parent\"><img src=\"https://colab.research.google.com/assets/colab-badge.svg\" alt=\"Open In Colab\"/></a>"
      ]
    },
    {
      "cell_type": "code",
      "execution_count": 17,
      "metadata": {
        "colab": {
          "base_uri": "https://localhost:8080/"
        },
        "id": "-RZlPhgHYPeQ",
        "outputId": "fa12372b-dd35-4788-c009-c0df24877d83"
      },
      "outputs": [
        {
          "output_type": "stream",
          "name": "stdout",
          "text": [
            "Enter Number one: 10\n",
            "Enter Number two: 5\n",
            "Time Taken short:  2.86102294921875e-06\n",
            "Sum of num1:  55.0\n",
            "Sum of num2:  15.0\n",
            "Sum of all numbers btw two numbers: 40.0\n"
          ]
        }
      ],
      "source": [
        "import time \n",
        "n1 = int(input(\"Enter Number one: \"))\n",
        "n2 = int(input(\"Enter Number two: \"))\n",
        "\n",
        "def sum_of_n1(n1, n2):\n",
        "    \n",
        "    start = time.time()\n",
        "    s1 = (n1*(n1+1))/2 # O(1) , num1 value\n",
        "    n1 = s1\n",
        "    s2 = (n2*(n2+1))/2 # O(1), num2 value\n",
        "    n2 = s2\n",
        "    \n",
        "    Sum = n1 - n2\n",
        "    end = time.time()\n",
        "    print(\"Time Taken short: \",end-start)\n",
        "    \n",
        "    print(\"Sum of num1: \",n1)\n",
        "    print(\"Sum of num2: \",n2)\n",
        "    print(\"Sum of all numbers btw two numbers:\", Sum)\n",
        "\n",
        "sum_of_n1(n1,n2)"
      ]
    },
    {
      "cell_type": "markdown",
      "source": [
        "For any given two numbers n1,n2. Find the sum of all numsbetween n1, n2 in most  optimal time approach.\n",
        "\n"
      ],
      "metadata": {
        "id": "7Le9CN03Y-I1"
      }
    },
    {
      "cell_type": "markdown",
      "source": [],
      "metadata": {
        "id": "wR2TD8YOY9Wd"
      }
    }
  ]
}