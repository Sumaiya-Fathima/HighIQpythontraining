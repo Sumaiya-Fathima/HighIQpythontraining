{
  "nbformat": 4,
  "nbformat_minor": 0,
  "metadata": {
    "colab": {
      "provenance": [],
      "authorship_tag": "ABX9TyNC1Ppeb/2BQIMEu4jvO33a",
      "include_colab_link": true
    },
    "kernelspec": {
      "name": "python3",
      "display_name": "Python 3"
    },
    "language_info": {
      "name": "python"
    }
  },
  "cells": [
    {
      "cell_type": "markdown",
      "metadata": {
        "id": "view-in-github",
        "colab_type": "text"
      },
      "source": [
        "<a href=\"https://colab.research.google.com/github/Sumaiya-Fathima/HighIQpythontraining/blob/main/regex_py.ipynb\" target=\"_parent\"><img src=\"https://colab.research.google.com/assets/colab-badge.svg\" alt=\"Open In Colab\"/></a>"
      ]
    },
    {
      "cell_type": "markdown",
      "source": [
        "Email Validation"
      ],
      "metadata": {
        "id": "nONRgwhmoPip"
      }
    },
    {
      "cell_type": "code",
      "execution_count": 5,
      "metadata": {
        "colab": {
          "base_uri": "https://localhost:8080/"
        },
        "id": "WZU-KrdboMog",
        "outputId": "c4b1c0db-20e7-4723-b074-7257624b57ed"
      },
      "outputs": [
        {
          "output_type": "stream",
          "name": "stdout",
          "text": [
            "None\n"
          ]
        }
      ],
      "source": [
        "import re\n",
        "pattern = re.compile(r\"(^[a-zA-Z0-9_.+-]+@[a-zA-Z0-9-]+.[a-zA-Z0-9_.]+$)\")\n",
        "\n",
        "email = 'sumaiya@.com'\n",
        "password = 'Sumaiya13@'\n",
        "\n",
        "a = pattern.search(email)\n",
        "b = pattern.search(password)\n",
        "print(a)"
      ]
    },
    {
      "cell_type": "code",
      "source": [],
      "metadata": {
        "id": "uaqdEdP4ozXF"
      },
      "execution_count": null,
      "outputs": []
    }
  ]
}